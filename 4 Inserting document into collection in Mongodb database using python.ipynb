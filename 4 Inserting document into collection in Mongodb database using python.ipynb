{
 "cells": [
  {
   "cell_type": "code",
   "execution_count": 1,
   "id": "3339325f",
   "metadata": {},
   "outputs": [],
   "source": [
    "import pymongo"
   ]
  },
  {
   "cell_type": "code",
   "execution_count": 3,
   "id": "d6b81d57",
   "metadata": {},
   "outputs": [],
   "source": [
    "myclient = pymongo.MongoClient(\"mongodb://localhost:27017/\")"
   ]
  },
  {
   "cell_type": "code",
   "execution_count": 4,
   "id": "62a3f414",
   "metadata": {},
   "outputs": [],
   "source": [
    "mydb = myclient['mydatabase']"
   ]
  },
  {
   "cell_type": "code",
   "execution_count": 5,
   "id": "402bd641",
   "metadata": {},
   "outputs": [],
   "source": [
    "mycol = mydb['friends']"
   ]
  },
  {
   "cell_type": "code",
   "execution_count": 6,
   "id": "38dd1090",
   "metadata": {},
   "outputs": [],
   "source": [
    "mydict = {'name':'Aditya', 'email':'aditya@gmail.com', 'mobile':\"99999\"}\n",
    "mydoc = mycol.insert_one(mydict)"
   ]
  },
  {
   "cell_type": "code",
   "execution_count": 7,
   "id": "1312406b",
   "metadata": {},
   "outputs": [
    {
     "data": {
      "text/plain": [
       "ObjectId('60d5f3e5587bebe6f2e7536e')"
      ]
     },
     "execution_count": 7,
     "metadata": {},
     "output_type": "execute_result"
    }
   ],
   "source": [
    "mydoc.inserted_id"
   ]
  },
  {
   "cell_type": "code",
   "execution_count": 8,
   "id": "49eb1e36",
   "metadata": {},
   "outputs": [],
   "source": [
    "# insert multiple documents"
   ]
  },
  {
   "cell_type": "code",
   "execution_count": 9,
   "id": "71054975",
   "metadata": {},
   "outputs": [],
   "source": [
    "import pymongo"
   ]
  },
  {
   "cell_type": "code",
   "execution_count": 11,
   "id": "64e2f2bb",
   "metadata": {},
   "outputs": [],
   "source": [
    "myclient = pymongo.MongoClient(\"mongodb://localhost:27017\")"
   ]
  },
  {
   "cell_type": "code",
   "execution_count": 12,
   "id": "54da3331",
   "metadata": {},
   "outputs": [],
   "source": [
    "mydb = myclient['mydatabase']\n",
    "mycol = mydb['friends']"
   ]
  },
  {
   "cell_type": "code",
   "execution_count": 14,
   "id": "12b9ff7b",
   "metadata": {},
   "outputs": [],
   "source": [
    "mydict =[\n",
    "    {'name':'Ravi', 'email':'Ravi@gmail.com', 'mobile':\"99998\"},\n",
    "    {'name':'Teja', 'email':'Teja@gmail.com', 'mobile':\"99997\"}\n",
    "       \n",
    "]\n",
    "\n",
    "mydoc = mycol.insert_many(mydict)"
   ]
  },
  {
   "cell_type": "code",
   "execution_count": null,
   "id": "526d7f17",
   "metadata": {},
   "outputs": [],
   "source": []
  }
 ],
 "metadata": {
  "kernelspec": {
   "display_name": "Python 3",
   "language": "python",
   "name": "python3"
  },
  "language_info": {
   "codemirror_mode": {
    "name": "ipython",
    "version": 3
   },
   "file_extension": ".py",
   "mimetype": "text/x-python",
   "name": "python",
   "nbconvert_exporter": "python",
   "pygments_lexer": "ipython3",
   "version": "3.8.8"
  }
 },
 "nbformat": 4,
 "nbformat_minor": 5
}
