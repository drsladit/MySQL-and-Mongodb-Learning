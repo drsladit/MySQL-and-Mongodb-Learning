{
 "cells": [
  {
   "cell_type": "code",
   "execution_count": 1,
   "id": "76c5566b",
   "metadata": {},
   "outputs": [],
   "source": [
    "import pymongo"
   ]
  },
  {
   "cell_type": "code",
   "execution_count": 2,
   "id": "46e93976",
   "metadata": {},
   "outputs": [],
   "source": [
    "myclient = pymongo.MongoClient(\"mongodb://localhost:27017/\")"
   ]
  },
  {
   "cell_type": "code",
   "execution_count": 3,
   "id": "22917789",
   "metadata": {},
   "outputs": [],
   "source": [
    "mydb = myclient['mydatabase']\n",
    "mycol = mydb['friends']"
   ]
  },
  {
   "cell_type": "code",
   "execution_count": 4,
   "id": "9f83de8a",
   "metadata": {},
   "outputs": [],
   "source": [
    "myresult = mycol.find()"
   ]
  },
  {
   "cell_type": "code",
   "execution_count": 5,
   "id": "c2891a02",
   "metadata": {},
   "outputs": [
    {
     "name": "stdout",
     "output_type": "stream",
     "text": [
      "{'_id': ObjectId('60d5f3e5587bebe6f2e7536e'), 'name': 'Aditya', 'email': 'aditya@gmail.com', 'mobile': '99999'}\n",
      "{'_id': ObjectId('60d6cd85587bebe6f2e75370'), 'name': 'Ravi', 'email': 'Ravi@gmail.com', 'mobile': '99998'}\n",
      "{'_id': ObjectId('60d6cd85587bebe6f2e75371'), 'name': 'Teja', 'email': 'Teja@gmail.com', 'mobile': '99997'}\n"
     ]
    }
   ],
   "source": [
    "for doc in myresult:\n",
    "    print(doc)"
   ]
  },
  {
   "cell_type": "code",
   "execution_count": 7,
   "id": "47b22a1d",
   "metadata": {},
   "outputs": [],
   "source": [
    "myresult = mycol.find_one()"
   ]
  },
  {
   "cell_type": "code",
   "execution_count": 8,
   "id": "799c0cc1",
   "metadata": {},
   "outputs": [
    {
     "data": {
      "text/plain": [
       "{'_id': ObjectId('60d5f3e5587bebe6f2e7536e'),\n",
       " 'name': 'Aditya',\n",
       " 'email': 'aditya@gmail.com',\n",
       " 'mobile': '99999'}"
      ]
     },
     "execution_count": 8,
     "metadata": {},
     "output_type": "execute_result"
    }
   ],
   "source": [
    "myresult"
   ]
  },
  {
   "cell_type": "code",
   "execution_count": null,
   "id": "59bdb53c",
   "metadata": {},
   "outputs": [],
   "source": []
  }
 ],
 "metadata": {
  "kernelspec": {
   "display_name": "Python 3",
   "language": "python",
   "name": "python3"
  },
  "language_info": {
   "codemirror_mode": {
    "name": "ipython",
    "version": 3
   },
   "file_extension": ".py",
   "mimetype": "text/x-python",
   "name": "python",
   "nbconvert_exporter": "python",
   "pygments_lexer": "ipython3",
   "version": "3.8.8"
  }
 },
 "nbformat": 4,
 "nbformat_minor": 5
}
