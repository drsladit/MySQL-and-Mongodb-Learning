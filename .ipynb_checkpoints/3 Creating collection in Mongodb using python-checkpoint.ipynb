{
 "cells": [
  {
   "cell_type": "code",
   "execution_count": 5,
   "id": "4b0b19d0",
   "metadata": {},
   "outputs": [],
   "source": [
    "import pymongo"
   ]
  },
  {
   "cell_type": "code",
   "execution_count": 6,
   "id": "b4569d72",
   "metadata": {},
   "outputs": [],
   "source": [
    "myclient = pymongo.MongoClient(\"mongodb://localhost:27017/\")"
   ]
  },
  {
   "cell_type": "code",
   "execution_count": 3,
   "id": "c71b2d9a",
   "metadata": {},
   "outputs": [],
   "source": [
    "mydb = myclient['mydatabase']"
   ]
  },
  {
   "cell_type": "code",
   "execution_count": 4,
   "id": "c7a07ead",
   "metadata": {},
   "outputs": [],
   "source": [
    "mycol = mydb['friends']"
   ]
  },
  {
   "cell_type": "code",
   "execution_count": 7,
   "id": "c35445ba",
   "metadata": {},
   "outputs": [],
   "source": [
    "# Retrieving available collections from any existing database"
   ]
  },
  {
   "cell_type": "code",
   "execution_count": 8,
   "id": "9fd066bf",
   "metadata": {},
   "outputs": [
    {
     "name": "stdout",
     "output_type": "stream",
     "text": [
      "admin\n",
      "config\n",
      "local\n"
     ]
    }
   ],
   "source": [
    "for db in myclient.list_database_names():\n",
    "    print(db)"
   ]
  },
  {
   "cell_type": "code",
   "execution_count": 14,
   "id": "ab5ab4cd",
   "metadata": {},
   "outputs": [],
   "source": [
    "mydb1 = myclient['local']"
   ]
  },
  {
   "cell_type": "code",
   "execution_count": 15,
   "id": "10a20762",
   "metadata": {},
   "outputs": [
    {
     "name": "stdout",
     "output_type": "stream",
     "text": [
      "startup_log\n"
     ]
    }
   ],
   "source": [
    "for col in mydb1.list_collection_names():\n",
    "    print(col)"
   ]
  },
  {
   "cell_type": "code",
   "execution_count": null,
   "id": "34e4345a",
   "metadata": {},
   "outputs": [],
   "source": []
  }
 ],
 "metadata": {
  "kernelspec": {
   "display_name": "Python 3",
   "language": "python",
   "name": "python3"
  },
  "language_info": {
   "codemirror_mode": {
    "name": "ipython",
    "version": 3
   },
   "file_extension": ".py",
   "mimetype": "text/x-python",
   "name": "python",
   "nbconvert_exporter": "python",
   "pygments_lexer": "ipython3",
   "version": "3.8.8"
  }
 },
 "nbformat": 4,
 "nbformat_minor": 5
}
